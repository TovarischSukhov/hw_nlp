{
 "cells": [
  {
   "cell_type": "code",
   "execution_count": 1,
   "metadata": {
    "collapsed": false
   },
   "outputs": [],
   "source": [
    "import nltk\n",
    "import pymorphy2\n",
    "from nltk.collocations import *"
   ]
  },
  {
   "cell_type": "code",
   "execution_count": 2,
   "metadata": {
    "collapsed": false
   },
   "outputs": [],
   "source": [
    "file = open('C:\\\\Users\\\\Ksenia\\\\Downloads\\\\court-V-N.csv', encoding='utf-8').read().split('\\n')\n",
    "bigram_measures = nltk.collocations.BigramAssocMeasures()\n",
    "\n",
    "file_parsed = []\n",
    "#verbs = set()\n",
    "for line in file:\n",
    "    l = line.replace(' ','')\n",
    "    file_parsed.append(l.split(',')[1:3])\n",
    "    #verbs.add(l.split(',')[1])"
   ]
  },
  {
   "cell_type": "code",
   "execution_count": 3,
   "metadata": {
    "collapsed": false
   },
   "outputs": [
    {
     "data": {
      "text/plain": [
       "[('ВЫДАТЬ', 'САНКЦИЯ'),\n",
       " ('ПРИНЯТЬ', 'РЕШЕНИЕ'),\n",
       " ('УДОВЛЕТВОРИТЬ', 'ХОДАТАЙСТВО'),\n",
       " ('УДОВЛЕТВОРИТЬ', 'ИСК'),\n",
       " ('НАЛОЖИТЬ', 'АРЕСТ'),\n",
       " ('ПРИЗНАТЬ', 'ВИНОВНАЯ'),\n",
       " ('САНКЦИОНИРОВАТЬ', 'АРЕСТ'),\n",
       " ('ОТКАЗАТЬ', 'УДОВЛЕТВОРЕНИЕ'),\n",
       " ('ОСВОБОДИТЬ', 'ЗАЛОГ'),\n",
       " ('ПРОЙТИ', 'ПРЕНИЕ')]"
      ]
     },
     "execution_count": 3,
     "metadata": {},
     "output_type": "execute_result"
    }
   ],
   "source": [
    "finder = BigramCollocationFinder.from_documents(file_parsed)\n",
    "\n",
    "#finder.apply_word_filter(lambda w: w in verbs)\n",
    "\n",
    "results_likelihood = finder.nbest(bigram_measures.likelihood_ratio, 10)\n",
    "results_likelihood"
   ]
  },
  {
   "cell_type": "code",
   "execution_count": 4,
   "metadata": {
    "collapsed": false
   },
   "outputs": [
    {
     "data": {
      "text/plain": [
       "[('АДРЕСОВАТЬ', 'МНЕНИЕ'),\n",
       " ('АССОЦИИРОВАТЬСЬ', 'БОЛЬШОЙ'),\n",
       " ('ВКЛЮЧИТЬ', 'РЕЕСТР'),\n",
       " ('ВОЗГЛАВИТЬ', 'СПИСОК'),\n",
       " ('ВОЗЛОЖИТЬ', 'ВОЗМЕЩЕНИЕ'),\n",
       " ('ВЫПЛАТИТЬ', 'ЖИТЕЛЬ'),\n",
       " ('ВЫПЛАЧИВАТЬ', 'СЧЕТ'),\n",
       " ('ВЫПОЛНЯТЬ', 'УСЛОВИЕ'),\n",
       " ('ВЫПУСТИТЬ', 'КЛЕТКА'),\n",
       " ('ВЫСКАЗАТЬ', 'НЕСОГЛАСИЕ')]"
      ]
     },
     "execution_count": 4,
     "metadata": {},
     "output_type": "execute_result"
    }
   ],
   "source": [
    "results_chi = finder.nbest(bigram_measures.chi_sq, 10)\n",
    "results_chi"
   ]
  },
  {
   "cell_type": "code",
   "execution_count": 5,
   "metadata": {
    "collapsed": false
   },
   "outputs": [
    {
     "data": {
      "text/plain": [
       "[('УДОВЛЕТВОРИТЬ', 'ИСК'),\n",
       " ('ПРИНЯТЬ', 'РЕШЕНИЕ'),\n",
       " ('УДОВЛЕТВОРИТЬ', 'ХОДАТАЙСТВО'),\n",
       " ('ВЫДАТЬ', 'САНКЦИЯ'),\n",
       " ('ПРИЗНАТЬ', 'ВИНОВНАЯ'),\n",
       " ('ВЫНЕСТИ', 'РЕШЕНИЕ'),\n",
       " ('НАЛОЖИТЬ', 'АРЕСТ'),\n",
       " ('САНКЦИОНИРОВАТЬ', 'АРЕСТ'),\n",
       " ('ОТКАЗАТЬ', 'УДОВЛЕТВОРЕНИЕ'),\n",
       " ('ПРИЗНАТЬ', 'ПРАВОТА')]"
      ]
     },
     "execution_count": 5,
     "metadata": {},
     "output_type": "execute_result"
    }
   ],
   "source": [
    "results_student = finder.nbest(bigram_measures.student_t, 10)\n",
    "results_student"
   ]
  },
  {
   "cell_type": "code",
   "execution_count": 6,
   "metadata": {
    "collapsed": false
   },
   "outputs": [
    {
     "name": "stdout",
     "output_type": "stream",
     "text": [
      "[(('ВЫДАТЬ', 'САНКЦИЯ'), 0), (('ВЫНЕСТИ', 'РЕШЕНИЕ'), 1), (('РАССМОТРЕТЬ', 'ХОДАТАЙСТВО'), 2), (('ОТКЛОНИТЬ', 'ИСК'), 3), (('ПРИЗНАТЬ', 'ВИНОВНАЯ'), 4), (('САНКЦИОНИРОВАТЬ', 'АРЕСТ'), 5), (('УДОВЛЕТВОРИТЬ', 'ИСК'), 6), (('ПРИЗНАТЬ', 'ПРАВОТА'), 7), (('ОТКАЗАТЬ', 'УДОВЛЕТВОРЕНИЕ'), 8), (('ПРИНЯТЬ', 'РЕШЕНИЕ'), 9)]\n"
     ]
    }
   ],
   "source": [
    "from nltk.metrics.spearman import *\n",
    "results_list = [('ВЫДАТЬ',\"САНКЦИЯ\"),\n",
    "                (\"ВЫНЕСТИ\",\"РЕШЕНИЕ\"),\n",
    "                (\"РАССМОТРЕТЬ\",\"ХОДАТАЙСТВО\"),\n",
    "                (\"ОТКЛОНИТЬ\",\"ИСК\"),\n",
    "                (\"ПРИЗНАТЬ\",\"ВИНОВНАЯ\"),\n",
    "                (\"САНКЦИОНИРОВАТЬ\",\"АРЕСТ\"),\n",
    "                (\"УДОВЛЕТВОРИТЬ\",\"ИСК\"),\n",
    "                (\"ПРИЗНАТЬ\",\"ПРАВОТА\"),\n",
    "                (\"ОТКАЗАТЬ\",\"УДОВЛЕТВОРЕНИЕ\"),\n",
    "                (\"ПРИНЯТЬ\",\"РЕШЕНИЕ\")]\n",
    "print(list(ranks_from_sequence(results_list)))"
   ]
  },
  {
   "cell_type": "code",
   "execution_count": 7,
   "metadata": {
    "collapsed": false
   },
   "outputs": [
    {
     "data": {
      "text/plain": [
       "-1.1714285714285713"
      ]
     },
     "execution_count": 7,
     "metadata": {},
     "output_type": "execute_result"
    }
   ],
   "source": [
    "spearman_correlation(ranks_from_sequence(results_list),ranks_from_sequence(results_likelihood))"
   ]
  },
  {
   "cell_type": "code",
   "execution_count": 8,
   "metadata": {
    "collapsed": false
   },
   "outputs": [
    {
     "data": {
      "text/plain": [
       "0.0"
      ]
     },
     "execution_count": 8,
     "metadata": {},
     "output_type": "execute_result"
    }
   ],
   "source": [
    "spearman_correlation(ranks_from_sequence(results_list),ranks_from_sequence(results_chi))"
   ]
  },
  {
   "cell_type": "code",
   "execution_count": 9,
   "metadata": {
    "collapsed": false
   },
   "outputs": [
    {
     "data": {
      "text/plain": [
       "-0.5833333333333333"
      ]
     },
     "execution_count": 9,
     "metadata": {},
     "output_type": "execute_result"
    }
   ],
   "source": [
    "spearman_correlation(ranks_from_sequence(results_list),ranks_from_sequence(results_student))"
   ]
  },
  {
   "cell_type": "markdown",
   "metadata": {},
   "source": [
    "В рамках выполнения данного задания я использовала биграммы. Из данных с помощь классовых методов, всторенных в nltk  (хи квадрат, тест стьюдента, вероятность) педсказывались самые типичные биграммы. Псоле этого с помощью теста корреляции Спирмана была найдена корреляция междк составленным вручную \"золотым стандартом\" и полученными биграммами.\n",
    "Интересно, что в одном из примеров корреляция больше 1 (то есть тест как-то не так работает?)\n",
    "Тест стьюдента сраотал лучше всего, но корреляция все равно не слишком высокая\n",
    "Интересно было, что и как покажет Хи квадрат, показательно, что у него корреляция нулевая."
   ]
  }
 ],
 "metadata": {
  "kernelspec": {
   "display_name": "Python 3",
   "language": "python",
   "name": "python3"
  },
  "language_info": {
   "codemirror_mode": {
    "name": "ipython",
    "version": 3
   },
   "file_extension": ".py",
   "mimetype": "text/x-python",
   "name": "python",
   "nbconvert_exporter": "python",
   "pygments_lexer": "ipython3",
   "version": "3.5.2"
  }
 },
 "nbformat": 4,
 "nbformat_minor": 2
}
