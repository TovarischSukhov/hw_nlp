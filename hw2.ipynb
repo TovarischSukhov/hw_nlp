{
 "cells": [
  {
   "cell_type": "code",
   "execution_count": 4,
   "metadata": {
    "collapsed": false
   },
   "outputs": [],
   "source": [
    "import nltk\n",
    "import pymorphy2\n",
    "from nltk.collocations import *"
   ]
  },
  {
   "cell_type": "code",
   "execution_count": 5,
   "metadata": {
    "collapsed": false
   },
   "outputs": [],
   "source": [
    "file = open('C:\\\\Users\\\\Ksenia\\\\Downloads\\\\court-V-N.csv', encoding='utf-8').read().split('\\n')\n",
    "bigram_measures = nltk.collocations.BigramAssocMeasures()\n",
    "\n",
    "file_parsed = []\n",
    "#verbs = set()\n",
    "for line in file:\n",
    "    l = line.replace(' ','')\n",
    "    file_parsed.append(l.split(',')[1:3])\n",
    "    #verbs.add(l.split(',')[1])"
   ]
  },
  {
   "cell_type": "code",
   "execution_count": 6,
   "metadata": {
    "collapsed": false
   },
   "outputs": [],
   "source": [
    "finder = BigramCollocationFinder.from_documents(file_parsed)\n",
    "\n",
    "#finder.apply_word_filter(lambda w: w in verbs)\n",
    "\n",
    "results_likelihood = finder.nbest(bigram_measures.likelihood_ratio, 10)"
   ]
  },
  {
   "cell_type": "code",
   "execution_count": 7,
   "metadata": {
    "collapsed": false
   },
   "outputs": [],
   "source": [
    "results_chi = finder.nbest(bigram_measures.chi_sq, 10)"
   ]
  },
  {
   "cell_type": "code",
   "execution_count": 8,
   "metadata": {
    "collapsed": false
   },
   "outputs": [],
   "source": [
    "results_student = finder.nbest(bigram_measures.student_t, 10)"
   ]
  },
  {
   "cell_type": "code",
   "execution_count": 9,
   "metadata": {
    "collapsed": false
   },
   "outputs": [
    {
     "name": "stdout",
     "output_type": "stream",
     "text": [
      "[(('ВЫДАТЬ', 'САНКЦИЯ'), 0), (('ВЫНЕСТИ', 'РЕШЕНИЕ'), 1), (('РАССМОТРЕТЬ', 'ХОДАТАЙСТВО'), 2), (('ОТКЛОНИТЬ', 'ИСК'), 3), (('ПРИЗНАТЬ', 'ВИНОВНАЯ'), 4), (('САНКЦИОНИРОВАТЬ', 'АРЕСТ'), 5), (('УДОВЛЕТВОРИТЬ', 'ИСК'), 6), (('ПРИЗНАТЬ', 'ПРАВОТА'), 7), (('ОТКАЗАТЬ', 'УДОВЛЕТВОРЕНИЕ'), 8), (('ПРИНЯТЬ', 'РЕШЕНИЕ'), 9)]\n"
     ]
    }
   ],
   "source": [
    "from nltk.metrics.spearman import *\n",
    "results_list = [('ВЫДАТЬ',\"САНКЦИЯ\"),\n",
    "                (\"ВЫНЕСТИ\",\"РЕШЕНИЕ\"),\n",
    "                (\"РАССМОТРЕТЬ\",\"ХОДАТАЙСТВО\"),\n",
    "                (\"ОТКЛОНИТЬ\",\"ИСК\"),\n",
    "                (\"ПРИЗНАТЬ\",\"ВИНОВНАЯ\"),\n",
    "                (\"САНКЦИОНИРОВАТЬ\",\"АРЕСТ\"),\n",
    "                (\"УДОВЛЕТВОРИТЬ\",\"ИСК\"),\n",
    "                (\"ПРИЗНАТЬ\",\"ПРАВОТА\"),\n",
    "                (\"ОТКАЗАТЬ\",\"УДОВЛЕТВОРЕНИЕ\"),\n",
    "                (\"ПРИНЯТЬ\",\"РЕШЕНИЕ\")]\n",
    "print(list(ranks_from_sequence(results_list)))"
   ]
  },
  {
   "cell_type": "code",
   "execution_count": 10,
   "metadata": {
    "collapsed": false
   },
   "outputs": [
    {
     "data": {
      "text/plain": [
       "-1.1714285714285713"
      ]
     },
     "execution_count": 10,
     "metadata": {},
     "output_type": "execute_result"
    }
   ],
   "source": [
    "spearman_correlation(ranks_from_sequence(results_list),ranks_from_sequence(results_likelihood))"
   ]
  },
  {
   "cell_type": "code",
   "execution_count": 11,
   "metadata": {
    "collapsed": false
   },
   "outputs": [
    {
     "data": {
      "text/plain": [
       "0.0"
      ]
     },
     "execution_count": 11,
     "metadata": {},
     "output_type": "execute_result"
    }
   ],
   "source": [
    "spearman_correlation(ranks_from_sequence(results_list),ranks_from_sequence(results_chi))"
   ]
  },
  {
   "cell_type": "code",
   "execution_count": 12,
   "metadata": {
    "collapsed": false
   },
   "outputs": [
    {
     "data": {
      "text/plain": [
       "-1.1714285714285713"
      ]
     },
     "execution_count": 12,
     "metadata": {},
     "output_type": "execute_result"
    }
   ],
   "source": [
    "spearman_correlation(ranks_from_sequence(results_list),ranks_from_sequence(results_likelihood))"
   ]
  }
 ],
 "metadata": {
  "kernelspec": {
   "display_name": "Python 3",
   "language": "python",
   "name": "python3"
  },
  "language_info": {
   "codemirror_mode": {
    "name": "ipython",
    "version": 3
   },
   "file_extension": ".py",
   "mimetype": "text/x-python",
   "name": "python",
   "nbconvert_exporter": "python",
   "pygments_lexer": "ipython3",
   "version": "3.5.2"
  }
 },
 "nbformat": 4,
 "nbformat_minor": 2
}
