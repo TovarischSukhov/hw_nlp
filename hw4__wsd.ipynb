{
 "cells": [
  {
   "cell_type": "code",
   "execution_count": 2,
   "metadata": {
    "collapsed": false
   },
   "outputs": [
    {
     "data": {
      "text/plain": [
       "[Synset('plant.n.01'),\n",
       " Synset('plant.n.02'),\n",
       " Synset('plant.n.03'),\n",
       " Synset('plant.n.04'),\n",
       " Synset('plant.v.01'),\n",
       " Synset('implant.v.01'),\n",
       " Synset('establish.v.02'),\n",
       " Synset('plant.v.04'),\n",
       " Synset('plant.v.05'),\n",
       " Synset('plant.v.06')]"
      ]
     },
     "execution_count": 2,
     "metadata": {},
     "output_type": "execute_result"
    }
   ],
   "source": [
    "from nltk.corpus import wordnet as wn\n",
    "\n",
    "#задание 1\n",
    "wn.synsets('plant')"
   ]
  },
  {
   "cell_type": "code",
   "execution_count": 50,
   "metadata": {
    "collapsed": false
   },
   "outputs": [
    {
     "data": {
      "text/plain": [
       "'buildings for carrying on industrial labor'"
      ]
     },
     "execution_count": 50,
     "metadata": {},
     "output_type": "execute_result"
    }
   ],
   "source": [
    "#задание 2\n",
    "factory = wn.synset('plant.n.01')\n",
    "factory.definition()"
   ]
  },
  {
   "cell_type": "code",
   "execution_count": 14,
   "metadata": {
    "collapsed": false
   },
   "outputs": [
    {
     "data": {
      "text/plain": [
       "'(botany) a living organism lacking the power of locomotion'"
      ]
     },
     "execution_count": 14,
     "metadata": {},
     "output_type": "execute_result"
    }
   ],
   "source": [
    "grass = wn.synset('plant.n.02')\n",
    "grass.definition()"
   ]
  },
  {
   "cell_type": "code",
   "execution_count": 48,
   "metadata": {
    "collapsed": false
   },
   "outputs": [
    {
     "name": "stdout",
     "output_type": "stream",
     "text": [
      "Synset('plant.v.06')\n",
      "Synset('plant.n.03')\n"
     ]
    }
   ],
   "source": [
    "#задание 3\n",
    "from nltk.wsd import lesk\n",
    "sent_1 = 'The plants were damaged by the frost'.split(' ')\n",
    "sent_2 = 'The manager offered to show me around the plant'.split(' ')\n",
    "\n",
    "print(lesk(sent_1, 'plant'))\n",
    "print(lesk(sent_2, 'plant'))\n",
    "#леск не справилая ни с первым предложением, ни со вторым, что странно (или просто предложения сложные??)"
   ]
  },
  {
   "cell_type": "code",
   "execution_count": 31,
   "metadata": {
    "collapsed": false
   },
   "outputs": [
    {
     "name": "stdout",
     "output_type": "stream",
     "text": [
      "[Synset('building_complex.n.01')]\n",
      "---------------------------------\n",
      "[Synset('organism.n.01')]\n"
     ]
    }
   ],
   "source": [
    "#задание 4\n",
    "print(factory.hypernyms())\n",
    "print('---------------------------------')\n",
    "print(grass.hypernyms())"
   ]
  },
  {
   "cell_type": "code",
   "execution_count": 45,
   "metadata": {
    "collapsed": false
   },
   "outputs": [
    {
     "name": "stdout",
     "output_type": "stream",
     "text": [
      "Synset('industry.n.01') 0.0667 the people or companies engaged in a particular kind of commercial enterprise\n",
      "Synset('industry.n.02') 0.0625 the organized action of making of goods and services for sale\n",
      "Synset('diligence.n.02') 0.0714 persevering determination to perform a task\n",
      "------------------------>\n",
      "Synset('leaf.n.01') 0.125 the main organ of photosynthesis and transpiration in higher plants\n",
      "Synset('leaf.n.02') 0.0833 a sheet of any written or printed material (especially in a manuscript or book)\n",
      "Synset('leaf.n.03') 0.125 hinged or detachable flat section (as of a table or door)\n",
      "\n",
      "min (d(plant: \"завод\", industry), d(plant: \"завод\", leaf))\n",
      "0.0625\n",
      "\n",
      "min (d(plant: \"растение\", industry), d(plant: \"растение\", leaf))\n",
      "0.0667\n"
     ]
    }
   ],
   "source": [
    "#задание 5 \n",
    "#path_similarity\n",
    "fact_ind = []; grs_ind = []\n",
    "for ss in wn.synsets('industry'):\n",
    "    print(ss, round(factory.path_similarity(ss), 4), ss.definition())\n",
    "    fact_ind.append(round(factory.path_similarity(ss), 4))\n",
    "    grs_ind.append(round(grass.path_similarity(ss), 4))\n",
    "print('------------------------>')\n",
    "grs_leaf = []; fact_leaf = []\n",
    "for ss in wn.synsets('leaf'):\n",
    "    if str(ss).split('.')[1] == 'n':\n",
    "        print(ss, round(grass.path_similarity(ss), 4), ss.definition())\n",
    "        grs_leaf.append(round(grass.path_similarity(ss), 4))\n",
    "        fact_leaf.append(round(factory.path_similarity(ss), 4))\n",
    "print()\n",
    "#min (d(plant: \"завод\", industry), d(plant: \"завод\", leaf)), \n",
    "#а также min (d(plant: \"растение\", industry), d(plant: \"растение\", leaf))\n",
    "print('min (d(plant: \"завод\", industry), d(plant: \"завод\", leaf))')\n",
    "print(min(min(fact_ind),min(fact_leaf)))\n",
    "print()\n",
    "print('min (d(plant: \"растение\", industry), d(plant: \"растение\", leaf))')\n",
    "print(min(min(grs_ind),min(grs_leaf)))"
   ]
  },
  {
   "cell_type": "code",
   "execution_count": 60,
   "metadata": {
    "collapsed": false
   },
   "outputs": [
    {
     "name": "stdout",
     "output_type": "stream",
     "text": [
      "whole ---->  all of something including all its component elements or parts\n",
      "org ---->   a living thing that has (or can develop) the ability to act or function independently\n",
      "path_sim   =   0.07692307692307693\n",
      "short_path   =   12\n",
      "lch_sim   =   1.072636802264849\n",
      "\n",
      "org ---->   a system considered analogous in structure or function to a living body\n",
      "path_sim   =   0.1\n",
      "short_path   =   9\n",
      "lch_sim   =   1.3350010667323402\n",
      "\n",
      "--------------------\n",
      "whole ---->  an assemblage of parts that is regarded as a single entity\n",
      "org ---->   a living thing that has (or can develop) the ability to act or function independently\n",
      "path_sim   =   0.3333333333333333\n",
      "short_path   =   2\n",
      "lch_sim   =   2.538973871058276\n",
      "\n",
      "org ---->   a system considered analogous in structure or function to a living body\n",
      "path_sim   =   0.125\n",
      "short_path   =   7\n",
      "lch_sim   =   1.55814461804655\n",
      "\n",
      "--------------------\n"
     ]
    }
   ],
   "source": [
    "#задание 6   path-similarity\n",
    "#shortest_path_distance\n",
    "\n",
    "#lch_similarity     d(organism, whole)\n",
    "wn.synsets(\"rattlesnake's master\") #слово не найдено, поэтому делаю только про вторую пару слов\n",
    "#print(wn.synsets('organism'))\n",
    "#print(wn.synsets('whole'))\n",
    "\n",
    "for w in wn.synsets('whole'):\n",
    "    if str(w).split('.')[1] == 'n':\n",
    "        print('whole ---->  ' + str(w.definition()))\n",
    "        for o in wn.synsets('organism'):\n",
    "            print('org ---->   ' + str(o.definition()))\n",
    "            print('path_sim   =   ' + str(w.path_similarity(o)))\n",
    "            print('short_path   =   ' + str(w.shortest_path_distance(o)))\n",
    "            print('lch_sim   =   ' + str(w.lch_similarity(o)))\n",
    "            print()\n",
    "        print('--------------------')\n",
    "#возможно, у меня какое-то странное чувство языка, но мне кажется, что на \"первом болке\" логичнее short_path\n",
    "# ан на втором - path_sim"
   ]
  }
 ],
 "metadata": {
  "kernelspec": {
   "display_name": "Python 3",
   "language": "python",
   "name": "python3"
  },
  "language_info": {
   "codemirror_mode": {
    "name": "ipython",
    "version": 3
   },
   "file_extension": ".py",
   "mimetype": "text/x-python",
   "name": "python",
   "nbconvert_exporter": "python",
   "pygments_lexer": "ipython3",
   "version": "3.6.0"
  }
 },
 "nbformat": 4,
 "nbformat_minor": 2
}
